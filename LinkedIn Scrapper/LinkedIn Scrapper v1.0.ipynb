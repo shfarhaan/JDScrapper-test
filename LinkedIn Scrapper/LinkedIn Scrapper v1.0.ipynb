{
 "cells": [
  {
   "cell_type": "code",
   "execution_count": 2,
   "id": "4f5b2763-dff1-4d7e-87a7-5b0a00318e84",
   "metadata": {},
   "outputs": [],
   "source": [
    "# pip install selenium"
   ]
  },
  {
   "cell_type": "code",
   "execution_count": 1,
   "id": "73629075-9d00-4986-ad8b-b113f725d5dd",
   "metadata": {},
   "outputs": [],
   "source": [
    "from selenium import webdriver\n",
    "from selenium.webdriver.chrome.service import Service\n",
    "service_obj = Service(r\"D:\\C Drive\\Program Files\\chromedriver-win64\\chromedriver.exe\")\n",
    "\n",
    "driver = webdriver.Chrome(service = service_obj)\n",
    "from selenium.webdriver.common.by import By\n",
    "import time\n"
   ]
  },
  {
   "cell_type": "code",
   "execution_count": 2,
   "id": "94f5ac41-b2f5-4840-aab3-f2ddf0eb7514",
   "metadata": {},
   "outputs": [],
   "source": [
    "driver.get(\"https://www.linkedin.com/home\")"
   ]
  },
  {
   "cell_type": "code",
   "execution_count": 3,
   "id": "cb8c6074-b0f8-4175-8056-7d5da945117e",
   "metadata": {},
   "outputs": [],
   "source": [
    "mail = \"Sazzad.hossain3.cse@ulab.edu.bd\"\n",
    "password = \"killer_009\""
   ]
  },
  {
   "cell_type": "code",
   "execution_count": 4,
   "id": "cf082e59-8949-46b5-a63f-b2114fa08b9f",
   "metadata": {},
   "outputs": [],
   "source": [
    "driver.find_element(By.XPATH, \"//input[@type='text']\").send_keys(mail)\n",
    "driver.find_element(By.XPATH, \"//input[@type='password']\").send_keys(password)\n",
    "driver.find_element(By.XPATH, \"//button[@type='submit']\").click()"
   ]
  },
  {
   "cell_type": "code",
   "execution_count": 5,
   "id": "608885a9-44f9-46fa-872a-b87277bb777c",
   "metadata": {},
   "outputs": [],
   "source": [
    "driver.get(\"https://www.linkedin.com/jobs/search/?currentJobId=3731078703&geoId=106215326&location=Bangladesh&origin=JOB_SEARCH_PAGE_SEARCH_BUTTON&refresh=true&sortBy=R\")"
   ]
  },
  {
   "cell_type": "code",
   "execution_count": 6,
   "id": "802b9880-7fff-446e-ba7a-887b07282d70",
   "metadata": {},
   "outputs": [],
   "source": [
    "import pandas as pd\n",
    "df = pd.DataFrame()\n",
    "ljob_title =[]\n",
    "lname_location =[]\n",
    "ljob_description =[]"
   ]
  },
  {
   "cell_type": "code",
   "execution_count": 9,
   "id": "2020f611-2c60-4d57-8560-574bb039e01a",
   "metadata": {},
   "outputs": [],
   "source": [
    "for pages in range(1, 3):\n",
    "    page_numbers = driver.find_element(By.XPATH, f\"//button[@aria-label='Page {pages}']\")\n",
    "    page_numbers.click()\n",
    "    time.sleep(3)\n",
    "\n",
    "\n",
    "    # Using \"find_elements\" for searching multiple elements\n",
    "    jobs_block = driver.find_elements(By.XPATH, \"//ul[@class='scaffold-layout__list-container']/li\")\n",
    "    \n",
    "    # executes js to scroll the job divs using view\n",
    "    for job in jobs_block:\n",
    "        # executes js to scroll the div into view\n",
    "    \n",
    "        driver.execute_script(\"arguments[0].scrollIntoView();\", job)\n",
    "        time.sleep(1)\n",
    "\n",
    "    jobs_link = driver.find_elements(By.XPATH, \"//ul[@class='scaffold-layout__list-container']/li/div/div/div[1]/div[2]/div[1]/a\")\n",
    "    \n",
    "    for link in jobs_link:\n",
    "        # executes js to scroll the div into view\n",
    "        link.click()\n",
    "        time.sleep(1)\n",
    "    \n",
    "        job_title = driver.find_element(By.XPATH, \"//h2[@class='t-24 t-bold job-details-jobs-unified-top-card__job-title']\").text\n",
    "        \n",
    "        name_location = driver.find_element(By.XPATH, \"//div[@class='job-details-jobs-unified-top-card__primary-description']\").text    \n",
    "        \n",
    "        job_description = driver.find_element(By.XPATH, \"//div[@id='job-details']\").text\n",
    "    \n",
    "        ljob_title.append(job_title)\n",
    "        lname_location.append(name_location)\n",
    "        ljob_description.append(job_description)\n",
    "    \n",
    "    \n",
    "\n",
    "# print(len(jobs_block))"
   ]
  },
  {
   "cell_type": "code",
   "execution_count": 18,
   "id": "7673de9b-fbe5-4747-a5b7-9685b6c6ec8e",
   "metadata": {},
   "outputs": [],
   "source": []
  },
  {
   "cell_type": "code",
   "execution_count": 19,
   "id": "64df2ed3-bbf5-469a-b991-9f0a1a9197f4",
   "metadata": {},
   "outputs": [],
   "source": [
    "# print(lexperience_level[7])"
   ]
  },
  {
   "cell_type": "code",
   "execution_count": 20,
   "id": "e947cd0d-2407-4b54-86b0-98a9cc55fea9",
   "metadata": {
    "scrolled": true
   },
   "outputs": [],
   "source": [
    "# first_exp = lexperience_level[0].split(\",\")\n",
    "# print(first_exp[1])"
   ]
  },
  {
   "cell_type": "code",
   "execution_count": 21,
   "id": "f5efa03a-595c-483c-b6ce-2ecdcf00bcd6",
   "metadata": {},
   "outputs": [
    {
     "name": "stdout",
     "output_type": "stream",
     "text": [
      "                                            job_title  \\\n",
      "0                SRMNCAH Small Grants Program Manager   \n",
      "1   MERLA Director - USAID Bangladesh Strengthenin...   \n",
      "2                    Senior Machine Learning Engineer   \n",
      "3                                       UX Researcher   \n",
      "4                                              Intern   \n",
      "5                               Global Graduate - IDT   \n",
      "6                 Software Engineer (SD -3) (9/10/23)   \n",
      "7                                Business Analyst, IT   \n",
      "8                         Manager, Talent Development   \n",
      "9                                 Head of Engineering   \n",
      "10       Data Intelligence & Business Strategy Intern   \n",
      "11                  Bangladesh Marine Junior Surveyor   \n",
      "12                      Regional Program Manager-Asia   \n",
      "13                                Performance Manager   \n",
      "14                         Digital Project Specialist   \n",
      "15                  Legal Counsel, BRAC International   \n",
      "16           Systems Engineer (Presales) - Bangladesh   \n",
      "17                     𝗦𝗵𝗼𝗽𝗶𝗳𝘆 Internship Opportunity   \n",
      "18                                    DevOps Engineer   \n",
      "19                                   Process Engineer   \n",
      "20                  Country Programme Assistant - G-5   \n",
      "21              Marketplace Coordinator (Night Shift)   \n",
      "22  Commercial Strategy & Investment Planning Manager   \n",
      "23                                    Business Intern   \n",
      "24  Programme Policy Officer (Resilience), FT NOA,...   \n",
      "\n",
      "                                        name_location  \\\n",
      "0   CORE Group · Dhaka, Dhaka, Bangladesh  1 week ...   \n",
      "1   RTI International · Bangladesh Reposted  1 wee...   \n",
      "2   Optimizely · Dhaka, Dhaka, Bangladesh Reposted...   \n",
      "3   Grameenphone Ltd · Bangladesh  3 days ago  · 1...   \n",
      "4   ADA · Dhaka, Bangladesh Reposted  13 hours ago...   \n",
      "5   BAT · Dhaka, Dhaka, Bangladesh Reposted  1 wee...   \n",
      "6   Robi Axiata Limited · Bangladesh  5 days ago  ...   \n",
      "7   BRAC-Aarong · Dhaka, Bangladesh  1 week ago  ·...   \n",
      "8   foodpanda · Bangladesh Reposted  1 week ago  ·...   \n",
      "9   Red Sea Gateway Terminal · Chattogram, Banglad...   \n",
      "10  ADA · Dhaka, Bangladesh Reposted  1 month ago ...   \n",
      "11  RINA · Dhaka, Dhaka, Bangladesh  1 week ago  ·...   \n",
      "12  Talent Centric · Dhaka, Bangladesh  6 days ago...   \n",
      "13  Daraz · Dhaka, Bangladesh  2 weeks ago  · 773 ...   \n",
      "14  Groz-Beckert · Dhaka, Bangladesh  1 week ago  ...   \n",
      "15  BRAC · Dhaka, Bangladesh  1 week ago  · 377 ap...   \n",
      "16  Palo Alto Networks · Dhaka, Dhaka, Bangladesh ...   \n",
      "17  AtZ Technology · Dhaka, Dhaka, Bangladesh  7 h...   \n",
      "18  উপায় (UCB Fintech Company Limited) · Dhaka, Ba...   \n",
      "19  VF Corporation · Dhaka, Dhaka, Bangladesh Repo...   \n",
      "20  International Fund for Agricultural Developmen...   \n",
      "21  Field Nation · Dhaka, Dhaka, Bangladesh Repost...   \n",
      "22  banglalink · Gulshan, Dhaka, Bangladesh  5 day...   \n",
      "23  ADA · Dhaka, Bangladesh Reposted  1 day ago  ·...   \n",
      "24  World Food Programme · Cox's Bazar District, C...   \n",
      "\n",
      "                                      job_description  \n",
      "0   About the job\\n\\nOPEN POSITION: Sexual, Reprod...  \n",
      "1   About the job\\nOverview\\n\\nResearch Triangle I...  \n",
      "2   About the job\\nOptimizely is known for content...  \n",
      "3   About the job\\n\\n\\nJob Title: UX Researcher\\n\\...  \n",
      "4   About the job\\nAbout ADA\\n\\nADA is a leading d...  \n",
      "5   About the job\\nBAT is evolving at pace - truly...  \n",
      "6   About the job\\nJob Purpose: As a Software Engi...  \n",
      "7   About the job\\nJob Responsibilities:\\n\\nCollab...  \n",
      "8   About the job\\n\"To be the most loved everyday ...  \n",
      "9   About the job\\nRSGT, operators of Saudi Arabia...  \n",
      "10  About the job\\nAbout Us\\n\\nADA is a data and a...  \n",
      "11  About the job\\nRINA is currently recruiting fo...  \n",
      "12  About the job\\nOverall purpose of the Role\\nTh...  \n",
      "13  About the job\\nAbout Daraz:\\nFounded in 2015, ...  \n",
      "14  About the job\\nJob objective:\\nThe Digital Pro...  \n",
      "15  About the job\\nCareer with BRAC International\\...  \n",
      "16  About the job\\nCompany Description\\n\\nOur Miss...  \n",
      "17  About the job\\nCompany Description\\nAtZ Techno...  \n",
      "18  About the job\\nPosition: DevOps Engineer\\n\\nJo...  \n",
      "19  About the job\\nPrincipal Accountabilities:\\n\\n...  \n",
      "20  About the job\\nJob Role\\n\\nThe incumbent is ac...  \n",
      "21  About the job\\nWhy is this role important to F...  \n",
      "22  About the job\\nJob Description\\n\\nJob Descript...  \n",
      "23  About the job\\nAbout ADA\\n\\nADA is a leading d...  \n",
      "24  About the job\\nWFP encourages female candidate...  \n"
     ]
    }
   ],
   "source": [
    "data = {\"job_title\" :ljob_title, \"name_location\" : lname_location, \"job_description\": ljob_description}\n",
    "\n",
    "df = pd.DataFrame(data)\n",
    "print(df)"
   ]
  },
  {
   "cell_type": "code",
   "execution_count": null,
   "id": "3dac671b-b751-4d3f-ba09-0c4b4f3071cd",
   "metadata": {},
   "outputs": [],
   "source": []
  }
 ],
 "metadata": {
  "kernelspec": {
   "display_name": "Python 3 (ipykernel)",
   "language": "python",
   "name": "python3"
  },
  "language_info": {
   "codemirror_mode": {
    "name": "ipython",
    "version": 3
   },
   "file_extension": ".py",
   "mimetype": "text/x-python",
   "name": "python",
   "nbconvert_exporter": "python",
   "pygments_lexer": "ipython3",
   "version": "3.11.5"
  }
 },
 "nbformat": 4,
 "nbformat_minor": 5
}
