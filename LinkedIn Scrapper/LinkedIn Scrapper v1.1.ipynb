{
 "cells": [
  {
   "cell_type": "code",
   "execution_count": 1,
   "id": "4f5b2763-dff1-4d7e-87a7-5b0a00318e84",
   "metadata": {},
   "outputs": [],
   "source": [
    "# pip install selenium"
   ]
  },
  {
   "cell_type": "code",
   "execution_count": 2,
   "id": "73629075-9d00-4986-ad8b-b113f725d5dd",
   "metadata": {},
   "outputs": [],
   "source": [
    "from selenium import webdriver\n",
    "from selenium.webdriver.chrome.service import Service\n",
    "service_obj = Service(r\"D:\\C Drive\\Program Files\\chromedriver-win64\\chromedriver.exe\")\n",
    "\n",
    "driver = webdriver.Chrome(service = service_obj)\n",
    "from selenium.webdriver.common.by import By\n",
    "import time\n"
   ]
  },
  {
   "cell_type": "code",
   "execution_count": 3,
   "id": "94f5ac41-b2f5-4840-aab3-f2ddf0eb7514",
   "metadata": {},
   "outputs": [],
   "source": [
    "driver.get(\"https://www.linkedin.com/home\")"
   ]
  },
  {
   "cell_type": "code",
   "execution_count": 4,
   "id": "cb8c6074-b0f8-4175-8056-7d5da945117e",
   "metadata": {},
   "outputs": [],
   "source": [
    "mail = \"ADD_YOUR_EMAIL_HERE\"\n",
    "password = \"ADD_YOUR_PASSWORD_HERE\""
   ]
  },
  {
   "cell_type": "code",
   "execution_count": 5,
   "id": "cf082e59-8949-46b5-a63f-b2114fa08b9f",
   "metadata": {},
   "outputs": [],
   "source": [
    "driver.find_element(By.XPATH, \"//input[@type='text']\").send_keys(mail)\n",
    "driver.find_element(By.XPATH, \"//input[@type='password']\").send_keys(password)\n",
    "driver.find_element(By.XPATH, \"//button[@type='submit']\").click()"
   ]
  },
  {
   "cell_type": "code",
   "execution_count": 6,
   "id": "608885a9-44f9-46fa-872a-b87277bb777c",
   "metadata": {},
   "outputs": [],
   "source": [
    "driver.get(\"https://www.linkedin.com/jobs/search/?currentJobId=3731078703&geoId=106215326&location=Bangladesh&origin=JOB_SEARCH_PAGE_SEARCH_BUTTON&refresh=true&sortBy=R\")"
   ]
  },
  {
   "cell_type": "code",
   "execution_count": 7,
   "id": "802b9880-7fff-446e-ba7a-887b07282d70",
   "metadata": {},
   "outputs": [],
   "source": [
    "import pandas as pd\n",
    "df = pd.DataFrame()\n",
    "ljob_title =[]\n",
    "lname_location =[]\n",
    "ljob_description =[]"
   ]
  },
  {
   "cell_type": "code",
   "execution_count": 8,
   "id": "2020f611-2c60-4d57-8560-574bb039e01a",
   "metadata": {},
   "outputs": [
    {
     "ename": "NoSuchElementException",
     "evalue": "Message: no such element: Unable to locate element: {\"method\":\"xpath\",\"selector\":\"//button[@aria-label='Page 28']\"}\n  (Session info: chrome=118.0.5993.70); For documentation on this error, please visit: https://www.selenium.dev/documentation/webdriver/troubleshooting/errors#no-such-element-exception\nStacktrace:\n\tGetHandleVerifier [0x00007FF65DE17D32+55474]\n\t(No symbol) [0x00007FF65DD877E2]\n\t(No symbol) [0x00007FF65DC3E0EB]\n\t(No symbol) [0x00007FF65DC7EBAC]\n\t(No symbol) [0x00007FF65DC7ED2C]\n\t(No symbol) [0x00007FF65DCB9F77]\n\t(No symbol) [0x00007FF65DC9F19F]\n\t(No symbol) [0x00007FF65DCB7EF2]\n\t(No symbol) [0x00007FF65DC9EF33]\n\t(No symbol) [0x00007FF65DC73D41]\n\t(No symbol) [0x00007FF65DC74F84]\n\tGetHandleVerifier [0x00007FF65E17B772+3609330]\n\tGetHandleVerifier [0x00007FF65E1D1A90+3962384]\n\tGetHandleVerifier [0x00007FF65E1C9F1F+3930783]\n\tGetHandleVerifier [0x00007FF65DEB3CC6+694342]\n\t(No symbol) [0x00007FF65DD92238]\n\t(No symbol) [0x00007FF65DD8E4A4]\n\t(No symbol) [0x00007FF65DD8E5D2]\n\t(No symbol) [0x00007FF65DD7EE33]\n\tBaseThreadInitThunk [0x00007FFA1A967344+20]\n\tRtlUserThreadStart [0x00007FFA1C8426B1+33]\n",
     "output_type": "error",
     "traceback": [
      "\u001b[1;31m---------------------------------------------------------------------------\u001b[0m",
      "\u001b[1;31mNoSuchElementException\u001b[0m                    Traceback (most recent call last)",
      "Cell \u001b[1;32mIn[8], line 2\u001b[0m\n\u001b[0;32m      1\u001b[0m \u001b[38;5;28;01mfor\u001b[39;00m pages \u001b[38;5;129;01min\u001b[39;00m \u001b[38;5;28mrange\u001b[39m(\u001b[38;5;241m1\u001b[39m, \u001b[38;5;241m38\u001b[39m):\n\u001b[1;32m----> 2\u001b[0m     page_numbers \u001b[38;5;241m=\u001b[39m \u001b[43mdriver\u001b[49m\u001b[38;5;241;43m.\u001b[39;49m\u001b[43mfind_element\u001b[49m\u001b[43m(\u001b[49m\u001b[43mBy\u001b[49m\u001b[38;5;241;43m.\u001b[39;49m\u001b[43mXPATH\u001b[49m\u001b[43m,\u001b[49m\u001b[43m \u001b[49m\u001b[38;5;124;43mf\u001b[39;49m\u001b[38;5;124;43m\"\u001b[39;49m\u001b[38;5;124;43m//button[@aria-label=\u001b[39;49m\u001b[38;5;124;43m'\u001b[39;49m\u001b[38;5;124;43mPage \u001b[39;49m\u001b[38;5;132;43;01m{\u001b[39;49;00m\u001b[43mpages\u001b[49m\u001b[38;5;132;43;01m}\u001b[39;49;00m\u001b[38;5;124;43m'\u001b[39;49m\u001b[38;5;124;43m]\u001b[39;49m\u001b[38;5;124;43m\"\u001b[39;49m\u001b[43m)\u001b[49m\n\u001b[0;32m      3\u001b[0m     page_numbers\u001b[38;5;241m.\u001b[39mclick()\n\u001b[0;32m      4\u001b[0m     time\u001b[38;5;241m.\u001b[39msleep(\u001b[38;5;241m3\u001b[39m)\n",
      "File \u001b[1;32m~\\AppData\\Local\\Programs\\Python\\Python311\\Lib\\site-packages\\selenium\\webdriver\\remote\\webdriver.py:738\u001b[0m, in \u001b[0;36mWebDriver.find_element\u001b[1;34m(self, by, value)\u001b[0m\n\u001b[0;32m    735\u001b[0m     by \u001b[38;5;241m=\u001b[39m By\u001b[38;5;241m.\u001b[39mCSS_SELECTOR\n\u001b[0;32m    736\u001b[0m     value \u001b[38;5;241m=\u001b[39m \u001b[38;5;124mf\u001b[39m\u001b[38;5;124m'\u001b[39m\u001b[38;5;124m[name=\u001b[39m\u001b[38;5;124m\"\u001b[39m\u001b[38;5;132;01m{\u001b[39;00mvalue\u001b[38;5;132;01m}\u001b[39;00m\u001b[38;5;124m\"\u001b[39m\u001b[38;5;124m]\u001b[39m\u001b[38;5;124m'\u001b[39m\n\u001b[1;32m--> 738\u001b[0m \u001b[38;5;28;01mreturn\u001b[39;00m \u001b[38;5;28;43mself\u001b[39;49m\u001b[38;5;241;43m.\u001b[39;49m\u001b[43mexecute\u001b[49m\u001b[43m(\u001b[49m\u001b[43mCommand\u001b[49m\u001b[38;5;241;43m.\u001b[39;49m\u001b[43mFIND_ELEMENT\u001b[49m\u001b[43m,\u001b[49m\u001b[43m \u001b[49m\u001b[43m{\u001b[49m\u001b[38;5;124;43m\"\u001b[39;49m\u001b[38;5;124;43musing\u001b[39;49m\u001b[38;5;124;43m\"\u001b[39;49m\u001b[43m:\u001b[49m\u001b[43m \u001b[49m\u001b[43mby\u001b[49m\u001b[43m,\u001b[49m\u001b[43m \u001b[49m\u001b[38;5;124;43m\"\u001b[39;49m\u001b[38;5;124;43mvalue\u001b[39;49m\u001b[38;5;124;43m\"\u001b[39;49m\u001b[43m:\u001b[49m\u001b[43m \u001b[49m\u001b[43mvalue\u001b[49m\u001b[43m}\u001b[49m\u001b[43m)\u001b[49m[\u001b[38;5;124m\"\u001b[39m\u001b[38;5;124mvalue\u001b[39m\u001b[38;5;124m\"\u001b[39m]\n",
      "File \u001b[1;32m~\\AppData\\Local\\Programs\\Python\\Python311\\Lib\\site-packages\\selenium\\webdriver\\remote\\webdriver.py:344\u001b[0m, in \u001b[0;36mWebDriver.execute\u001b[1;34m(self, driver_command, params)\u001b[0m\n\u001b[0;32m    342\u001b[0m response \u001b[38;5;241m=\u001b[39m \u001b[38;5;28mself\u001b[39m\u001b[38;5;241m.\u001b[39mcommand_executor\u001b[38;5;241m.\u001b[39mexecute(driver_command, params)\n\u001b[0;32m    343\u001b[0m \u001b[38;5;28;01mif\u001b[39;00m response:\n\u001b[1;32m--> 344\u001b[0m     \u001b[38;5;28;43mself\u001b[39;49m\u001b[38;5;241;43m.\u001b[39;49m\u001b[43merror_handler\u001b[49m\u001b[38;5;241;43m.\u001b[39;49m\u001b[43mcheck_response\u001b[49m\u001b[43m(\u001b[49m\u001b[43mresponse\u001b[49m\u001b[43m)\u001b[49m\n\u001b[0;32m    345\u001b[0m     response[\u001b[38;5;124m\"\u001b[39m\u001b[38;5;124mvalue\u001b[39m\u001b[38;5;124m\"\u001b[39m] \u001b[38;5;241m=\u001b[39m \u001b[38;5;28mself\u001b[39m\u001b[38;5;241m.\u001b[39m_unwrap_value(response\u001b[38;5;241m.\u001b[39mget(\u001b[38;5;124m\"\u001b[39m\u001b[38;5;124mvalue\u001b[39m\u001b[38;5;124m\"\u001b[39m, \u001b[38;5;28;01mNone\u001b[39;00m))\n\u001b[0;32m    346\u001b[0m     \u001b[38;5;28;01mreturn\u001b[39;00m response\n",
      "File \u001b[1;32m~\\AppData\\Local\\Programs\\Python\\Python311\\Lib\\site-packages\\selenium\\webdriver\\remote\\errorhandler.py:229\u001b[0m, in \u001b[0;36mErrorHandler.check_response\u001b[1;34m(self, response)\u001b[0m\n\u001b[0;32m    227\u001b[0m         alert_text \u001b[38;5;241m=\u001b[39m value[\u001b[38;5;124m\"\u001b[39m\u001b[38;5;124malert\u001b[39m\u001b[38;5;124m\"\u001b[39m]\u001b[38;5;241m.\u001b[39mget(\u001b[38;5;124m\"\u001b[39m\u001b[38;5;124mtext\u001b[39m\u001b[38;5;124m\"\u001b[39m)\n\u001b[0;32m    228\u001b[0m     \u001b[38;5;28;01mraise\u001b[39;00m exception_class(message, screen, stacktrace, alert_text)  \u001b[38;5;66;03m# type: ignore[call-arg]  # mypy is not smart enough here\u001b[39;00m\n\u001b[1;32m--> 229\u001b[0m \u001b[38;5;28;01mraise\u001b[39;00m exception_class(message, screen, stacktrace)\n",
      "\u001b[1;31mNoSuchElementException\u001b[0m: Message: no such element: Unable to locate element: {\"method\":\"xpath\",\"selector\":\"//button[@aria-label='Page 28']\"}\n  (Session info: chrome=118.0.5993.70); For documentation on this error, please visit: https://www.selenium.dev/documentation/webdriver/troubleshooting/errors#no-such-element-exception\nStacktrace:\n\tGetHandleVerifier [0x00007FF65DE17D32+55474]\n\t(No symbol) [0x00007FF65DD877E2]\n\t(No symbol) [0x00007FF65DC3E0EB]\n\t(No symbol) [0x00007FF65DC7EBAC]\n\t(No symbol) [0x00007FF65DC7ED2C]\n\t(No symbol) [0x00007FF65DCB9F77]\n\t(No symbol) [0x00007FF65DC9F19F]\n\t(No symbol) [0x00007FF65DCB7EF2]\n\t(No symbol) [0x00007FF65DC9EF33]\n\t(No symbol) [0x00007FF65DC73D41]\n\t(No symbol) [0x00007FF65DC74F84]\n\tGetHandleVerifier [0x00007FF65E17B772+3609330]\n\tGetHandleVerifier [0x00007FF65E1D1A90+3962384]\n\tGetHandleVerifier [0x00007FF65E1C9F1F+3930783]\n\tGetHandleVerifier [0x00007FF65DEB3CC6+694342]\n\t(No symbol) [0x00007FF65DD92238]\n\t(No symbol) [0x00007FF65DD8E4A4]\n\t(No symbol) [0x00007FF65DD8E5D2]\n\t(No symbol) [0x00007FF65DD7EE33]\n\tBaseThreadInitThunk [0x00007FFA1A967344+20]\n\tRtlUserThreadStart [0x00007FFA1C8426B1+33]\n"
     ]
    }
   ],
   "source": [
    "for pages in range(1, 38):\n",
    "    page_numbers = driver.find_element(By.XPATH, f\"//button[@aria-label='Page {pages}']\")\n",
    "    page_numbers.click()\n",
    "    time.sleep(3)\n",
    "\n",
    "\n",
    "    # Using \"find_elements\" for searching multiple elements\n",
    "    jobs_block = driver.find_elements(By.XPATH, \"//ul[@class='scaffold-layout__list-container']/li\")\n",
    "    \n",
    "    # executes js to scroll the job divs using view\n",
    "    for job in jobs_block:\n",
    "        # executes js to scroll the div into view\n",
    "    \n",
    "        driver.execute_script(\"arguments[0].scrollIntoView();\", job)\n",
    "        time.sleep(1)\n",
    "\n",
    "    jobs_link = driver.find_elements(By.XPATH, \"//ul[@class='scaffold-layout__list-container']/li/div/div/div[1]/div[2]/div[1]/a\")\n",
    "    \n",
    "    for link in jobs_link:\n",
    "        # executes js to scroll the div into view\n",
    "        link.click()\n",
    "        time.sleep(1)\n",
    "    \n",
    "        job_title = driver.find_element(By.XPATH, \"//h2[@class='t-24 t-bold job-details-jobs-unified-top-card__job-title']\").text\n",
    "        \n",
    "        name_location = driver.find_element(By.XPATH, \"//div[@class='job-details-jobs-unified-top-card__primary-description']\").text    \n",
    "        \n",
    "        job_description = driver.find_element(By.XPATH, \"//div[@id='job-details']\").text\n",
    "    \n",
    "        ljob_title.append(job_title)\n",
    "        lname_location.append(name_location)\n",
    "        ljob_description.append(job_description)\n",
    "    \n",
    "    \n",
    "\n",
    "# print(len(jobs_block))"
   ]
  },
  {
   "cell_type": "code",
   "execution_count": 9,
   "id": "f5efa03a-595c-483c-b6ce-2ecdcf00bcd6",
   "metadata": {},
   "outputs": [
    {
     "name": "stdout",
     "output_type": "stream",
     "text": [
      "                                             job_title  \\\n",
      "0                 SRMNCAH Small Grants Program Manager   \n",
      "1                     Senior Machine Learning Engineer   \n",
      "2    MERLA Director - USAID Bangladesh Strengthenin...   \n",
      "3                                        UX Researcher   \n",
      "4                                               Intern   \n",
      "..                                                 ...   \n",
      "569  Director, Monitoring Evaluation and Learning -...   \n",
      "570                           Lead Full-Stack Engineer   \n",
      "571  Business Development Manager for International...   \n",
      "572                          Senior Front-End Engineer   \n",
      "573                         Senior Full-Stack Engineer   \n",
      "\n",
      "                                         name_location  \\\n",
      "0    CORE Group · Dhaka, Dhaka, Bangladesh  1 week ...   \n",
      "1    Optimizely · Dhaka, Dhaka, Bangladesh Reposted...   \n",
      "2    RTI International · Bangladesh Reposted  1 wee...   \n",
      "3    Grameenphone Ltd · Bangladesh  3 days ago  · 1...   \n",
      "4    ADA · Dhaka, Bangladesh Reposted  14 hours ago...   \n",
      "..                                                 ...   \n",
      "569  Palladium: Make It Possible · Bangladesh  2 we...   \n",
      "570   Turing · Bangladesh  1 month ago  · 2 applicants   \n",
      "571  Global University Systems · Dhaka, Dhaka, Bang...   \n",
      "572  Turing · Bangladesh  3 months ago  · 16 applic...   \n",
      "573   Turing · Bangladesh  1 month ago  · 0 applicants   \n",
      "\n",
      "                                       job_description  \n",
      "0    About the job\\n\\nOPEN POSITION: Sexual, Reprod...  \n",
      "1    About the job\\nOptimizely is known for content...  \n",
      "2    About the job\\nOverview\\n\\nResearch Triangle I...  \n",
      "3    About the job\\n\\n\\nJob Title: UX Researcher\\n\\...  \n",
      "4    About the job\\nAbout ADA\\n\\nADA is a leading d...  \n",
      "..                                                 ...  \n",
      "569  About the job\\nAbout Palladium\\n\\nPalladium is...  \n",
      "570  About the job\\nA US-based company that helps d...  \n",
      "571  About the job\\nGlobal University Systems (GUS)...  \n",
      "572  About the job\\nA US-based company that assists...  \n",
      "573  About the job\\nA U.S.-based company that is re...  \n",
      "\n",
      "[574 rows x 3 columns]\n"
     ]
    }
   ],
   "source": [
    "data = {\"job_title\" :ljob_title, \"name_location\" : lname_location, \"job_description\": ljob_description}\n",
    "\n",
    "df = pd.DataFrame(data)\n",
    "print(df)"
   ]
  },
  {
   "cell_type": "code",
   "execution_count": 10,
   "id": "3dac671b-b751-4d3f-ba09-0c4b4f3071cd",
   "metadata": {},
   "outputs": [
    {
     "data": {
      "text/html": [
       "<div>\n",
       "<style scoped>\n",
       "    .dataframe tbody tr th:only-of-type {\n",
       "        vertical-align: middle;\n",
       "    }\n",
       "\n",
       "    .dataframe tbody tr th {\n",
       "        vertical-align: top;\n",
       "    }\n",
       "\n",
       "    .dataframe thead th {\n",
       "        text-align: right;\n",
       "    }\n",
       "</style>\n",
       "<table border=\"1\" class=\"dataframe\">\n",
       "  <thead>\n",
       "    <tr style=\"text-align: right;\">\n",
       "      <th></th>\n",
       "      <th>job_title</th>\n",
       "      <th>name_location</th>\n",
       "      <th>job_description</th>\n",
       "    </tr>\n",
       "  </thead>\n",
       "  <tbody>\n",
       "    <tr>\n",
       "      <th>0</th>\n",
       "      <td>SRMNCAH Small Grants Program Manager</td>\n",
       "      <td>CORE Group · Dhaka, Dhaka, Bangladesh  1 week ...</td>\n",
       "      <td>About the job\\n\\nOPEN POSITION: Sexual, Reprod...</td>\n",
       "    </tr>\n",
       "    <tr>\n",
       "      <th>1</th>\n",
       "      <td>Senior Machine Learning Engineer</td>\n",
       "      <td>Optimizely · Dhaka, Dhaka, Bangladesh Reposted...</td>\n",
       "      <td>About the job\\nOptimizely is known for content...</td>\n",
       "    </tr>\n",
       "    <tr>\n",
       "      <th>2</th>\n",
       "      <td>MERLA Director - USAID Bangladesh Strengthenin...</td>\n",
       "      <td>RTI International · Bangladesh Reposted  1 wee...</td>\n",
       "      <td>About the job\\nOverview\\n\\nResearch Triangle I...</td>\n",
       "    </tr>\n",
       "    <tr>\n",
       "      <th>3</th>\n",
       "      <td>UX Researcher</td>\n",
       "      <td>Grameenphone Ltd · Bangladesh  3 days ago  · 1...</td>\n",
       "      <td>About the job\\n\\n\\nJob Title: UX Researcher\\n\\...</td>\n",
       "    </tr>\n",
       "    <tr>\n",
       "      <th>4</th>\n",
       "      <td>Intern</td>\n",
       "      <td>ADA · Dhaka, Bangladesh Reposted  14 hours ago...</td>\n",
       "      <td>About the job\\nAbout ADA\\n\\nADA is a leading d...</td>\n",
       "    </tr>\n",
       "    <tr>\n",
       "      <th>...</th>\n",
       "      <td>...</td>\n",
       "      <td>...</td>\n",
       "      <td>...</td>\n",
       "    </tr>\n",
       "    <tr>\n",
       "      <th>569</th>\n",
       "      <td>Director, Monitoring Evaluation and Learning -...</td>\n",
       "      <td>Palladium: Make It Possible · Bangladesh  2 we...</td>\n",
       "      <td>About the job\\nAbout Palladium\\n\\nPalladium is...</td>\n",
       "    </tr>\n",
       "    <tr>\n",
       "      <th>570</th>\n",
       "      <td>Lead Full-Stack Engineer</td>\n",
       "      <td>Turing · Bangladesh  1 month ago  · 2 applicants</td>\n",
       "      <td>About the job\\nA US-based company that helps d...</td>\n",
       "    </tr>\n",
       "    <tr>\n",
       "      <th>571</th>\n",
       "      <td>Business Development Manager for International...</td>\n",
       "      <td>Global University Systems · Dhaka, Dhaka, Bang...</td>\n",
       "      <td>About the job\\nGlobal University Systems (GUS)...</td>\n",
       "    </tr>\n",
       "    <tr>\n",
       "      <th>572</th>\n",
       "      <td>Senior Front-End Engineer</td>\n",
       "      <td>Turing · Bangladesh  3 months ago  · 16 applic...</td>\n",
       "      <td>About the job\\nA US-based company that assists...</td>\n",
       "    </tr>\n",
       "    <tr>\n",
       "      <th>573</th>\n",
       "      <td>Senior Full-Stack Engineer</td>\n",
       "      <td>Turing · Bangladesh  1 month ago  · 0 applicants</td>\n",
       "      <td>About the job\\nA U.S.-based company that is re...</td>\n",
       "    </tr>\n",
       "  </tbody>\n",
       "</table>\n",
       "<p>574 rows × 3 columns</p>\n",
       "</div>"
      ],
      "text/plain": [
       "                                             job_title  \\\n",
       "0                 SRMNCAH Small Grants Program Manager   \n",
       "1                     Senior Machine Learning Engineer   \n",
       "2    MERLA Director - USAID Bangladesh Strengthenin...   \n",
       "3                                        UX Researcher   \n",
       "4                                               Intern   \n",
       "..                                                 ...   \n",
       "569  Director, Monitoring Evaluation and Learning -...   \n",
       "570                           Lead Full-Stack Engineer   \n",
       "571  Business Development Manager for International...   \n",
       "572                          Senior Front-End Engineer   \n",
       "573                         Senior Full-Stack Engineer   \n",
       "\n",
       "                                         name_location  \\\n",
       "0    CORE Group · Dhaka, Dhaka, Bangladesh  1 week ...   \n",
       "1    Optimizely · Dhaka, Dhaka, Bangladesh Reposted...   \n",
       "2    RTI International · Bangladesh Reposted  1 wee...   \n",
       "3    Grameenphone Ltd · Bangladesh  3 days ago  · 1...   \n",
       "4    ADA · Dhaka, Bangladesh Reposted  14 hours ago...   \n",
       "..                                                 ...   \n",
       "569  Palladium: Make It Possible · Bangladesh  2 we...   \n",
       "570   Turing · Bangladesh  1 month ago  · 2 applicants   \n",
       "571  Global University Systems · Dhaka, Dhaka, Bang...   \n",
       "572  Turing · Bangladesh  3 months ago  · 16 applic...   \n",
       "573   Turing · Bangladesh  1 month ago  · 0 applicants   \n",
       "\n",
       "                                       job_description  \n",
       "0    About the job\\n\\nOPEN POSITION: Sexual, Reprod...  \n",
       "1    About the job\\nOptimizely is known for content...  \n",
       "2    About the job\\nOverview\\n\\nResearch Triangle I...  \n",
       "3    About the job\\n\\n\\nJob Title: UX Researcher\\n\\...  \n",
       "4    About the job\\nAbout ADA\\n\\nADA is a leading d...  \n",
       "..                                                 ...  \n",
       "569  About the job\\nAbout Palladium\\n\\nPalladium is...  \n",
       "570  About the job\\nA US-based company that helps d...  \n",
       "571  About the job\\nGlobal University Systems (GUS)...  \n",
       "572  About the job\\nA US-based company that assists...  \n",
       "573  About the job\\nA U.S.-based company that is re...  \n",
       "\n",
       "[574 rows x 3 columns]"
      ]
     },
     "execution_count": 10,
     "metadata": {},
     "output_type": "execute_result"
    }
   ],
   "source": [
    "df"
   ]
  },
  {
   "cell_type": "code",
   "execution_count": 11,
   "id": "583ca99f-2441-41bd-a8df-dfec2ff37828",
   "metadata": {},
   "outputs": [
    {
     "name": "stdout",
     "output_type": "stream",
     "text": [
      "Data has been written to jobs_bangladesh.csv\n"
     ]
    }
   ],
   "source": [
    "# Specify the file path where you want to save the CSV file\n",
    "csv_file_path = 'jobs_bangladesh.csv'\n",
    "\n",
    "# Write the DataFrame to a CSV file\n",
    "df.to_csv(csv_file_path, index=False)\n",
    "\n",
    "print(f\"Data has been written to {csv_file_path}\")\n"
   ]
  },
  {
   "cell_type": "code",
   "execution_count": null,
   "id": "3de12ab2-61e7-449e-8285-f4d3982c09aa",
   "metadata": {},
   "outputs": [],
   "source": []
  }
 ],
 "metadata": {
  "kernelspec": {
   "display_name": "Python 3 (ipykernel)",
   "language": "python",
   "name": "python3"
  },
  "language_info": {
   "codemirror_mode": {
    "name": "ipython",
    "version": 3
   },
   "file_extension": ".py",
   "mimetype": "text/x-python",
   "name": "python",
   "nbconvert_exporter": "python",
   "pygments_lexer": "ipython3",
   "version": "3.11.5"
  }
 },
 "nbformat": 4,
 "nbformat_minor": 5
}
