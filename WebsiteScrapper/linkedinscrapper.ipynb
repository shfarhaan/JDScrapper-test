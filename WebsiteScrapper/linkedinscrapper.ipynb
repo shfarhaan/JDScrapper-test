{
 "cells": [
  {
   "cell_type": "code",
   "execution_count": 2,
   "id": "4f5b2763-dff1-4d7e-87a7-5b0a00318e84",
   "metadata": {},
   "outputs": [],
   "source": [
    "# pip install selenium"
   ]
  },
  {
   "cell_type": "code",
   "execution_count": 3,
   "id": "73629075-9d00-4986-ad8b-b113f725d5dd",
   "metadata": {},
   "outputs": [],
   "source": [
    "from selenium import webdriver\n",
    "from selenium.webdriver.chrome.service import Service\n",
    "service_obj = Service(r\"D:\\C Drive\\Program Files\\chromedriver-win64\\chromedriver.exe\")\n",
    "\n",
    "driver = webdriver.Chrome(service = service_obj)\n",
    "from selenium.webdriver.common.by import By\n",
    "import time\n"
   ]
  },
  {
   "cell_type": "code",
   "execution_count": 4,
   "id": "94f5ac41-b2f5-4840-aab3-f2ddf0eb7514",
   "metadata": {},
   "outputs": [],
   "source": [
    "driver.get(\"https://www.linkedin.com/home\")"
   ]
  },
  {
   "cell_type": "code",
   "execution_count": 5,
   "id": "cb8c6074-b0f8-4175-8056-7d5da945117e",
   "metadata": {},
   "outputs": [],
   "source": [
    "mail = \"Sazzad.hossain3.cse@ulab.edu.bd\"\n",
    "password = \"killer_009\""
   ]
  },
  {
   "cell_type": "code",
   "execution_count": 8,
   "id": "cf082e59-8949-46b5-a63f-b2114fa08b9f",
   "metadata": {},
   "outputs": [
    {
     "ename": "NoSuchElementException",
     "evalue": "Message: no such element: Unable to locate element: {\"method\":\"xpath\",\"selector\":\"//button[@class='sign-in-form__submit-btn']\"}\n  (Session info: chrome=117.0.5938.150); For documentation on this error, please visit: https://www.selenium.dev/documentation/webdriver/troubleshooting/errors#no-such-element-exception\nStacktrace:\n\tGetHandleVerifier [0x00007FF692757D32+55474]\n\t(No symbol) [0x00007FF6926C77E2]\n\t(No symbol) [0x00007FF69257E0EB]\n\t(No symbol) [0x00007FF6925BEBAC]\n\t(No symbol) [0x00007FF6925BED2C]\n\t(No symbol) [0x00007FF6925F9F77]\n\t(No symbol) [0x00007FF6925DF19F]\n\t(No symbol) [0x00007FF6925F7EF2]\n\t(No symbol) [0x00007FF6925DEF33]\n\t(No symbol) [0x00007FF6925B3D41]\n\t(No symbol) [0x00007FF6925B4F84]\n\tGetHandleVerifier [0x00007FF692ABB772+3609330]\n\tGetHandleVerifier [0x00007FF692B11A90+3962384]\n\tGetHandleVerifier [0x00007FF692B09F1F+3930783]\n\tGetHandleVerifier [0x00007FF6927F3CC6+694342]\n\t(No symbol) [0x00007FF6926D2238]\n\t(No symbol) [0x00007FF6926CE4A4]\n\t(No symbol) [0x00007FF6926CE5D2]\n\t(No symbol) [0x00007FF6926BEE33]\n\tBaseThreadInitThunk [0x00007FFF349B7344+20]\n\tRtlUserThreadStart [0x00007FFF35CC26B1+33]\n",
     "output_type": "error",
     "traceback": [
      "\u001b[1;31m---------------------------------------------------------------------------\u001b[0m",
      "\u001b[1;31mNoSuchElementException\u001b[0m                    Traceback (most recent call last)",
      "Cell \u001b[1;32mIn[8], line 3\u001b[0m\n\u001b[0;32m      1\u001b[0m driver\u001b[38;5;241m.\u001b[39mfind_element(By\u001b[38;5;241m.\u001b[39mXPATH, \u001b[38;5;124m\"\u001b[39m\u001b[38;5;124m//input[@type=\u001b[39m\u001b[38;5;124m'\u001b[39m\u001b[38;5;124mtext\u001b[39m\u001b[38;5;124m'\u001b[39m\u001b[38;5;124m]\u001b[39m\u001b[38;5;124m\"\u001b[39m)\u001b[38;5;241m.\u001b[39msend_keys(mail)\n\u001b[0;32m      2\u001b[0m driver\u001b[38;5;241m.\u001b[39mfind_element(By\u001b[38;5;241m.\u001b[39mXPATH, \u001b[38;5;124m\"\u001b[39m\u001b[38;5;124m//input[@type=\u001b[39m\u001b[38;5;124m'\u001b[39m\u001b[38;5;124mpassword\u001b[39m\u001b[38;5;124m'\u001b[39m\u001b[38;5;124m]\u001b[39m\u001b[38;5;124m\"\u001b[39m)\u001b[38;5;241m.\u001b[39msend_keys(password)\n\u001b[1;32m----> 3\u001b[0m \u001b[43mdriver\u001b[49m\u001b[38;5;241;43m.\u001b[39;49m\u001b[43mfind_element\u001b[49m\u001b[43m(\u001b[49m\u001b[43mBy\u001b[49m\u001b[38;5;241;43m.\u001b[39;49m\u001b[43mXPATH\u001b[49m\u001b[43m,\u001b[49m\u001b[43m \u001b[49m\u001b[38;5;124;43m\"\u001b[39;49m\u001b[38;5;124;43m//button[@class=\u001b[39;49m\u001b[38;5;124;43m'\u001b[39;49m\u001b[38;5;124;43msign-in-form__submit-btn\u001b[39;49m\u001b[38;5;124;43m'\u001b[39;49m\u001b[38;5;124;43m]\u001b[39;49m\u001b[38;5;124;43m\"\u001b[39;49m\u001b[43m)\u001b[49m\u001b[38;5;241m.\u001b[39mclick()\n",
      "File \u001b[1;32m~\\AppData\\Local\\Programs\\Python\\Python311\\Lib\\site-packages\\selenium\\webdriver\\remote\\webdriver.py:738\u001b[0m, in \u001b[0;36mWebDriver.find_element\u001b[1;34m(self, by, value)\u001b[0m\n\u001b[0;32m    735\u001b[0m     by \u001b[38;5;241m=\u001b[39m By\u001b[38;5;241m.\u001b[39mCSS_SELECTOR\n\u001b[0;32m    736\u001b[0m     value \u001b[38;5;241m=\u001b[39m \u001b[38;5;124mf\u001b[39m\u001b[38;5;124m'\u001b[39m\u001b[38;5;124m[name=\u001b[39m\u001b[38;5;124m\"\u001b[39m\u001b[38;5;132;01m{\u001b[39;00mvalue\u001b[38;5;132;01m}\u001b[39;00m\u001b[38;5;124m\"\u001b[39m\u001b[38;5;124m]\u001b[39m\u001b[38;5;124m'\u001b[39m\n\u001b[1;32m--> 738\u001b[0m \u001b[38;5;28;01mreturn\u001b[39;00m \u001b[38;5;28;43mself\u001b[39;49m\u001b[38;5;241;43m.\u001b[39;49m\u001b[43mexecute\u001b[49m\u001b[43m(\u001b[49m\u001b[43mCommand\u001b[49m\u001b[38;5;241;43m.\u001b[39;49m\u001b[43mFIND_ELEMENT\u001b[49m\u001b[43m,\u001b[49m\u001b[43m \u001b[49m\u001b[43m{\u001b[49m\u001b[38;5;124;43m\"\u001b[39;49m\u001b[38;5;124;43musing\u001b[39;49m\u001b[38;5;124;43m\"\u001b[39;49m\u001b[43m:\u001b[49m\u001b[43m \u001b[49m\u001b[43mby\u001b[49m\u001b[43m,\u001b[49m\u001b[43m \u001b[49m\u001b[38;5;124;43m\"\u001b[39;49m\u001b[38;5;124;43mvalue\u001b[39;49m\u001b[38;5;124;43m\"\u001b[39;49m\u001b[43m:\u001b[49m\u001b[43m \u001b[49m\u001b[43mvalue\u001b[49m\u001b[43m}\u001b[49m\u001b[43m)\u001b[49m[\u001b[38;5;124m\"\u001b[39m\u001b[38;5;124mvalue\u001b[39m\u001b[38;5;124m\"\u001b[39m]\n",
      "File \u001b[1;32m~\\AppData\\Local\\Programs\\Python\\Python311\\Lib\\site-packages\\selenium\\webdriver\\remote\\webdriver.py:344\u001b[0m, in \u001b[0;36mWebDriver.execute\u001b[1;34m(self, driver_command, params)\u001b[0m\n\u001b[0;32m    342\u001b[0m response \u001b[38;5;241m=\u001b[39m \u001b[38;5;28mself\u001b[39m\u001b[38;5;241m.\u001b[39mcommand_executor\u001b[38;5;241m.\u001b[39mexecute(driver_command, params)\n\u001b[0;32m    343\u001b[0m \u001b[38;5;28;01mif\u001b[39;00m response:\n\u001b[1;32m--> 344\u001b[0m     \u001b[38;5;28;43mself\u001b[39;49m\u001b[38;5;241;43m.\u001b[39;49m\u001b[43merror_handler\u001b[49m\u001b[38;5;241;43m.\u001b[39;49m\u001b[43mcheck_response\u001b[49m\u001b[43m(\u001b[49m\u001b[43mresponse\u001b[49m\u001b[43m)\u001b[49m\n\u001b[0;32m    345\u001b[0m     response[\u001b[38;5;124m\"\u001b[39m\u001b[38;5;124mvalue\u001b[39m\u001b[38;5;124m\"\u001b[39m] \u001b[38;5;241m=\u001b[39m \u001b[38;5;28mself\u001b[39m\u001b[38;5;241m.\u001b[39m_unwrap_value(response\u001b[38;5;241m.\u001b[39mget(\u001b[38;5;124m\"\u001b[39m\u001b[38;5;124mvalue\u001b[39m\u001b[38;5;124m\"\u001b[39m, \u001b[38;5;28;01mNone\u001b[39;00m))\n\u001b[0;32m    346\u001b[0m     \u001b[38;5;28;01mreturn\u001b[39;00m response\n",
      "File \u001b[1;32m~\\AppData\\Local\\Programs\\Python\\Python311\\Lib\\site-packages\\selenium\\webdriver\\remote\\errorhandler.py:229\u001b[0m, in \u001b[0;36mErrorHandler.check_response\u001b[1;34m(self, response)\u001b[0m\n\u001b[0;32m    227\u001b[0m         alert_text \u001b[38;5;241m=\u001b[39m value[\u001b[38;5;124m\"\u001b[39m\u001b[38;5;124malert\u001b[39m\u001b[38;5;124m\"\u001b[39m]\u001b[38;5;241m.\u001b[39mget(\u001b[38;5;124m\"\u001b[39m\u001b[38;5;124mtext\u001b[39m\u001b[38;5;124m\"\u001b[39m)\n\u001b[0;32m    228\u001b[0m     \u001b[38;5;28;01mraise\u001b[39;00m exception_class(message, screen, stacktrace, alert_text)  \u001b[38;5;66;03m# type: ignore[call-arg]  # mypy is not smart enough here\u001b[39;00m\n\u001b[1;32m--> 229\u001b[0m \u001b[38;5;28;01mraise\u001b[39;00m exception_class(message, screen, stacktrace)\n",
      "\u001b[1;31mNoSuchElementException\u001b[0m: Message: no such element: Unable to locate element: {\"method\":\"xpath\",\"selector\":\"//button[@class='sign-in-form__submit-btn']\"}\n  (Session info: chrome=117.0.5938.150); For documentation on this error, please visit: https://www.selenium.dev/documentation/webdriver/troubleshooting/errors#no-such-element-exception\nStacktrace:\n\tGetHandleVerifier [0x00007FF692757D32+55474]\n\t(No symbol) [0x00007FF6926C77E2]\n\t(No symbol) [0x00007FF69257E0EB]\n\t(No symbol) [0x00007FF6925BEBAC]\n\t(No symbol) [0x00007FF6925BED2C]\n\t(No symbol) [0x00007FF6925F9F77]\n\t(No symbol) [0x00007FF6925DF19F]\n\t(No symbol) [0x00007FF6925F7EF2]\n\t(No symbol) [0x00007FF6925DEF33]\n\t(No symbol) [0x00007FF6925B3D41]\n\t(No symbol) [0x00007FF6925B4F84]\n\tGetHandleVerifier [0x00007FF692ABB772+3609330]\n\tGetHandleVerifier [0x00007FF692B11A90+3962384]\n\tGetHandleVerifier [0x00007FF692B09F1F+3930783]\n\tGetHandleVerifier [0x00007FF6927F3CC6+694342]\n\t(No symbol) [0x00007FF6926D2238]\n\t(No symbol) [0x00007FF6926CE4A4]\n\t(No symbol) [0x00007FF6926CE5D2]\n\t(No symbol) [0x00007FF6926BEE33]\n\tBaseThreadInitThunk [0x00007FFF349B7344+20]\n\tRtlUserThreadStart [0x00007FFF35CC26B1+33]\n"
     ]
    }
   ],
   "source": [
    "driver.find_element(By.XPATH, \"//input[@type='text']\").send_keys(mail)\n",
    "driver.find_element(By.XPATH, \"//input[@type='password']\").send_keys(password)\n",
    "driver.find_element(By.XPATH, \"//button[@class='sign-in-form__submit-btn']\").click()"
   ]
  },
  {
   "cell_type": "code",
   "execution_count": null,
   "id": "608885a9-44f9-46fa-872a-b87277bb777c",
   "metadata": {},
   "outputs": [],
   "source": []
  }
 ],
 "metadata": {
  "kernelspec": {
   "display_name": "Python 3 (ipykernel)",
   "language": "python",
   "name": "python3"
  },
  "language_info": {
   "codemirror_mode": {
    "name": "ipython",
    "version": 3
   },
   "file_extension": ".py",
   "mimetype": "text/x-python",
   "name": "python",
   "nbconvert_exporter": "python",
   "pygments_lexer": "ipython3",
   "version": "3.11.5"
  }
 },
 "nbformat": 4,
 "nbformat_minor": 5
}
