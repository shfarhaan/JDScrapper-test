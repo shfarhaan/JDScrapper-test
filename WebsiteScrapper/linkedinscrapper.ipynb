{
 "cells": [
  {
   "cell_type": "code",
   "execution_count": 2,
   "id": "4f5b2763-dff1-4d7e-87a7-5b0a00318e84",
   "metadata": {},
   "outputs": [],
   "source": [
    "# pip install selenium"
   ]
  },
  {
   "cell_type": "code",
   "execution_count": 7,
   "id": "73629075-9d00-4986-ad8b-b113f725d5dd",
   "metadata": {},
   "outputs": [],
   "source": [
    "from selenium import webdriver\n",
    "from selenium.webdriver.chrome.service import Service\n",
    "service_obj = Service(r\"D:\\C Drive\\Program Files\\chromedriver-win64\\chromedriver.exe\")\n",
    "\n",
    "driver = webdriver.Chrome(service = service_obj)\n",
    "from selenium.webdriver.common.by import By\n",
    "import time\n"
   ]
  },
  {
   "cell_type": "code",
   "execution_count": 8,
   "id": "94f5ac41-b2f5-4840-aab3-f2ddf0eb7514",
   "metadata": {},
   "outputs": [],
   "source": [
    "driver.get(\"https://www.linkedin.com/home\")"
   ]
  },
  {
   "cell_type": "code",
   "execution_count": 9,
   "id": "cb8c6074-b0f8-4175-8056-7d5da945117e",
   "metadata": {},
   "outputs": [],
   "source": [
    "mail = \"Sazzad.hossain3.cse@ulab.edu.bd\"\n",
    "password = \"killer_009\""
   ]
  },
  {
   "cell_type": "code",
   "execution_count": 10,
   "id": "cf082e59-8949-46b5-a63f-b2114fa08b9f",
   "metadata": {},
   "outputs": [],
   "source": [
    "driver.find_element(By.XPATH, \"//input[@type='text']\").send_keys(mail)\n",
    "driver.find_element(By.XPATH, \"//input[@type='password']\").send_keys(password)\n",
    "driver.find_element(By.XPATH, \"//button[@type='submit']\").click()"
   ]
  },
  {
   "cell_type": "code",
   "execution_count": 11,
   "id": "608885a9-44f9-46fa-872a-b87277bb777c",
   "metadata": {},
   "outputs": [],
   "source": [
    "driver.get(\"https://www.linkedin.com/jobs/search/?currentJobId=3731078703&geoId=106215326&location=Bangladesh&origin=JOB_SEARCH_PAGE_SEARCH_BUTTON&refresh=true&sortBy=R\")"
   ]
  },
  {
   "cell_type": "code",
   "execution_count": 53,
   "id": "802b9880-7fff-446e-ba7a-887b07282d70",
   "metadata": {},
   "outputs": [],
   "source": [
    "import pandas as pd\n",
    "df = pd.DataFrame()\n",
    "ljob_title =[]\n",
    "lname_location =[]\n",
    "lexperience_level =[]\n",
    "ljob_description =[]"
   ]
  },
  {
   "cell_type": "code",
   "execution_count": 13,
   "id": "2020f611-2c60-4d57-8560-574bb039e01a",
   "metadata": {},
   "outputs": [
    {
     "name": "stdout",
     "output_type": "stream",
     "text": [
      "25\n"
     ]
    }
   ],
   "source": [
    "# Using \"find_elements\" for searching multiple elements\n",
    "jobs_block = driver.find_elements(By.XPATH, \"//ul[@class='scaffold-layout__list-container']/li\")\n",
    "\n",
    "# executes js to scroll the job divs using view\n",
    "for job in jobs_block:\n",
    "    # executes js to scroll the div into view\n",
    "\n",
    "    driver.execute_script(\"arguments[0].scrollIntoView();\", job)\n",
    "    time.sleep(1)\n",
    "\n",
    "print(len(jobs_block))"
   ]
  },
  {
   "cell_type": "code",
   "execution_count": 59,
   "id": "7673de9b-fbe5-4747-a5b7-9685b6c6ec8e",
   "metadata": {},
   "outputs": [],
   "source": [
    "jobs_link = driver.find_elements(By.XPATH, \"//ul[@class='scaffold-layout__list-container']/li/div/div/div[1]/div[2]/div[1]/a\")\n",
    "for link in jobs_link:\n",
    "    # executes js to scroll the div into view\n",
    "    link.click()\n",
    "    time.sleep(1)\n",
    "\n",
    "    # job_title = driver.find_element(By.XPATH, \"//h2[@class='t-24 t-bold jobs-unified-top-card__job-title']\").text\n",
    "    job_title = driver.find_element(By.XPATH, \"//h2[@class='t-24 t-bold job-details-jobs-unified-top-card__job-title']\").text\n",
    "    \n",
    "    # name_location = driver.find_element(By.XPATH, \"//span[@class='job-details-jobs-unified-top-card__primary-description']\").text\n",
    "    name_location = driver.find_element(By.XPATH, \"//div[@class='job-details-jobs-unified-top-card__primary-description']\").text    \n",
    "    \n",
    "    # experience_level = driver.find_element(By.XPATH, \"//div[@class='mt5 mb2']/ul/li[1]\").text\n",
    "    experience_level = driver.find_element(By.XPATH, \"//span[@class='job-details-jobs-unified-top-card__job-insight-view-model-secondary']\").text.strip()\n",
    "\n",
    "    job_description = driver.find_element(By.XPATH, \"//div[@id='job-details']\").text\n",
    "\n",
    "    ljob_title.append(job_title)\n",
    "    lname_location.append(name_location)\n",
    "    lexperience_level.append(experience_level)\n",
    "    ljob_description.append(job_description)\n",
    "\n"
   ]
  },
  {
   "cell_type": "code",
   "execution_count": 68,
   "id": "e947cd0d-2407-4b54-86b0-98a9cc55fea9",
   "metadata": {
    "scrolled": true
   },
   "outputs": [
    {
     "name": "stdout",
     "output_type": "stream",
     "text": [
      " job type is Full-time.\n"
     ]
    }
   ],
   "source": [
    "first_exp = lexperience_level[0].split(\",\")\n",
    "print(first_exp[1])"
   ]
  },
  {
   "cell_type": "code",
   "execution_count": 45,
   "id": "f5efa03a-595c-483c-b6ce-2ecdcf00bcd6",
   "metadata": {},
   "outputs": [
    {
     "ename": "SyntaxError",
     "evalue": "':' expected after dictionary key (2458067877.py, line 1)",
     "output_type": "error",
     "traceback": [
      "\u001b[1;36m  Cell \u001b[1;32mIn[45], line 1\u001b[1;36m\u001b[0m\n\u001b[1;33m    data = {\"job_title\" :ljob_title, \"name_location\" : lname_location, \"experience_level\"  }\u001b[0m\n\u001b[1;37m                                                                                        ^\u001b[0m\n\u001b[1;31mSyntaxError\u001b[0m\u001b[1;31m:\u001b[0m ':' expected after dictionary key\n"
     ]
    }
   ],
   "source": [
    "data = {\"job_title\" :ljob_title, \"name_location\" : lname_location, \"experience_level\"  }"
   ]
  },
  {
   "cell_type": "code",
   "execution_count": null,
   "id": "3dac671b-b751-4d3f-ba09-0c4b4f3071cd",
   "metadata": {},
   "outputs": [],
   "source": []
  }
 ],
 "metadata": {
  "kernelspec": {
   "display_name": "Python 3 (ipykernel)",
   "language": "python",
   "name": "python3"
  },
  "language_info": {
   "codemirror_mode": {
    "name": "ipython",
    "version": 3
   },
   "file_extension": ".py",
   "mimetype": "text/x-python",
   "name": "python",
   "nbconvert_exporter": "python",
   "pygments_lexer": "ipython3",
   "version": "3.11.5"
  }
 },
 "nbformat": 4,
 "nbformat_minor": 5
}
